{
 "cells": [
  {
   "cell_type": "markdown",
   "metadata": {},
   "source": [
    "# <span style='color:SteelBlue'>P7 - Implémentez un modèle  de scoring (part 1)</span>"
   ]
  },
  {
   "cell_type": "markdown",
   "metadata": {},
   "source": [
    "![Logo Seattle](https://user.oc-static.com/upload/2023/03/22/16794938722698_Data%20Scientist-P7-01-banner.png)"
   ]
  },
  {
   "cell_type": "markdown",
   "metadata": {},
   "source": [
    "# <span style='background:white; color:black'>Sommaire</span>\n",
    "\n",
    "**Introduction**\n",
    "\n",
    "Importations des librairies<br>\n",
    "\n",
    "Paramètres d'affichage<br>\n",
    "\n",
    "Fonctions <br>\n",
    "\n",
    "**Etape 1 : ...**\n",
    "\n",
    "# <span style='background:red'>MAJ à faire</span>\n",
    "\n",
    "**Conclusion**"
   ]
  },
  {
   "cell_type": "markdown",
   "metadata": {},
   "source": [
    "# <span style='background:blue'>Introduction</span>\n",
    "\n",
    "L'entreprise **\"Prêt à dépenser\"** souhaite mettre en œuvre un outil de “scoring crédit” pour calculer la probabilité qu’un client rembourse son crédit, puis classifie la demande en crédit accordé ou refusé. Elle souhaite donc développer un **algorithme de classification** en s’appuyant sur des sources de données variées (données comportementales, données provenant d'autres institutions financières, etc.).\n",
    "___\n",
    "**Missions**<br>\n",
    "1/ Construire un modèle de scoring qui donnera une prédiction sur la probabilité de faillite d'un client de façon automatique.\n",
    "\n",
    "2/ Analyser les features qui contribuent le plus au modèle, d’une manière générale (feature importance globale) et au niveau d’un client (feature importance locale), afin, dans un soucis de transparence, de permettre à un chargé d’études de mieux comprendre le score attribué par le modèle.\n",
    "\n",
    "3/ Mettre en production le modèle de scoring de prédiction à l’aide d’une API et réaliser une interface de test de cette API.\n",
    "\n",
    "4/ Mettre en oeuvre une approche globale MLOps de bout en bout, du tracking des expérimentations à l’analyse en production du data drift.\n",
    "___\n",
    "Ce notebook presente la 1ème partie concernant la construction du modèle de scoring."
   ]
  },
  {
   "cell_type": "markdown",
   "metadata": {},
   "source": [
    "# <span style='background:grey'>Importations des librairies utilisees dans ce notebook</span>"
   ]
  },
  {
   "cell_type": "code",
   "execution_count": 1,
   "metadata": {},
   "outputs": [
    {
     "name": "stdout",
     "output_type": "stream",
     "text": [
      "Version des librairies utilisees :\n",
      "Python        : 3.11.7 (tags/v3.11.7:fa7a6f2, Dec  4 2023, 19:24:49) [MSC v.1937 64 bit (AMD64)]\n",
      "Csv           : 1.0\n",
      "Json          : 2.0.9\n",
      "Pandas        : 2.1.4\n",
      "Requests      : 2.31.0\n",
      "\n",
      "Code lance le : 2024-02-07T18:06:13.072195\n",
      "\n"
     ]
    }
   ],
   "source": [
    "# Librairies generales\n",
    "import sys\n",
    "import time\n",
    "from datetime import datetime\n",
    "\n",
    "# Data science\n",
    "import pandas as pd\n",
    "\n",
    "# Affichage plot dans le notebook\n",
    "%matplotlib inline\n",
    "\n",
    "# Versions\n",
    "print(\"Version des librairies utilisees :\")\n",
    "print(\"Python        : \" + sys.version)\n",
    "print(\"Pandas        : \" + pd.__version__)\n",
    "\n",
    "# Afficher heure lancement\n",
    "maintenant = datetime.now().isoformat()\n",
    "print(\"\\nCode lance le : \" + maintenant)\n",
    "\n",
    "# Enregistrer l'heure de debut\n",
    "start_time = time.time()\n",
    "\n",
    "# Activer la verification PEP8\n",
    "print(\"\")\n",
    "%load_ext pycodestyle_magic\n",
    "%pycodestyle_on"
   ]
  },
  {
   "cell_type": "markdown",
   "metadata": {},
   "source": [
    "# <span style='background:grey'>Paramètres d'affichage</span>"
   ]
  },
  {
   "cell_type": "code",
   "execution_count": 2,
   "metadata": {},
   "outputs": [],
   "source": [
    "# parametrage des paramètres d'affichage dans le notebook\n",
    "pd.set_option(\"display.max_row\", 50)\n",
    "pd.set_option(\"display.max_column\", 10)\n",
    "pd.set_option(\"display.precision\", 2)"
   ]
  },
  {
   "cell_type": "markdown",
   "metadata": {},
   "source": [
    "# <span style='background:grey'>Fonctions</span>"
   ]
  },
  {
   "cell_type": "code",
   "execution_count": 3,
   "metadata": {},
   "outputs": [],
   "source": [
    "def calculer_duree_notebook(start_time):\n",
    "    \"\"\"\n",
    "    Cette procédure calcule et affiche la durée totale depuis un temps de\n",
    "    début donné.\n",
    "\n",
    "    Args:\n",
    "        start_time (float): Le temps de début en secondes depuis l'époque.\n",
    "\n",
    "    Returns:\n",
    "        None\n",
    "    \"\"\"\n",
    "    # Calculer la durée totale\n",
    "    total_time = time.time() - start_time\n",
    "\n",
    "    # Convertir en minutes et secondes\n",
    "    minutes, seconds = divmod(total_time, 60)\n",
    "\n",
    "    # Afficher la durée totale\n",
    "    message = (\"Durée execution notebook : {0} minute(s) {1} seconde(s)\")\n",
    "    print(message.format(int(minutes), int(seconds)))"
   ]
  },
  {
   "cell_type": "code",
   "execution_count": 10,
   "metadata": {},
   "outputs": [
    {
     "name": "stdout",
     "output_type": "stream",
     "text": [
      "Durée totale pour faire tourner le notebook : 0 minute(s) 2 seconde(s)\n"
     ]
    }
   ],
   "source": [
    "# Afficher temps d'exécution du notebook\n",
    "calculer_duree_notebook(start_time)"
   ]
  }
 ],
 "metadata": {
  "kernelspec": {
   "display_name": "env",
   "language": "python",
   "name": "python3"
  },
  "language_info": {
   "codemirror_mode": {
    "name": "ipython",
    "version": 3
   },
   "file_extension": ".py",
   "mimetype": "text/x-python",
   "name": "python",
   "nbconvert_exporter": "python",
   "pygments_lexer": "ipython3",
   "version": "3.11.7"
  }
 },
 "nbformat": 4,
 "nbformat_minor": 2
}
