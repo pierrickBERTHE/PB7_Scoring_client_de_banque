{
 "cells": [
  {
   "cell_type": "markdown",
   "metadata": {},
   "source": [
    "# <span style='color:SteelBlue'>P7 - Implémentez un modèle  de scoring (part 1)</span>"
   ]
  },
  {
   "cell_type": "markdown",
   "metadata": {},
   "source": [
    "![Logo Seattle](https://user.oc-static.com/upload/2023/03/22/16794938722698_Data%20Scientist-P7-01-banner.png)"
   ]
  },
  {
   "cell_type": "markdown",
   "metadata": {},
   "source": [
    "# <span style='background:white; color:black'>Sommaire</span>\n",
    "\n",
    "**Introduction**\n",
    "\n",
    "Importations des librairies<br>\n",
    "\n",
    "Paramètres d'affichage<br>\n",
    "\n",
    "Fonctions <br>\n",
    "\n",
    "**Etape 1 : ...**\n",
    "\n",
    "# <span style='background:red'>MAJ à faire</span>\n",
    "\n",
    "**Conclusion**"
   ]
  },
  {
   "cell_type": "markdown",
   "metadata": {},
   "source": [
    "# <span style='background:blue'>Introduction</span>\n",
    "\n",
    "L'entreprise **\"Prêt à dépenser\"** souhaite mettre en œuvre un outil de “scoring crédit” pour calculer la probabilité qu’un client rembourse son crédit, puis classifie la demande en crédit accordé ou refusé. Elle souhaite donc développer un **algorithme de classification** en s’appuyant sur des sources de données variées (données comportementales, données provenant d'autres institutions financières, etc.).\n",
    "___\n",
    "**Missions**<br>\n",
    "1/ Construire un modèle de scoring qui donnera une prédiction sur la probabilité de faillite d'un client de façon automatique.\n",
    "\n",
    "2/ Analyser les features qui contribuent le plus au modèle, d’une manière générale (feature importance globale) et au niveau d’un client (feature importance locale), afin, dans un soucis de transparence, de permettre à un chargé d’études de mieux comprendre le score attribué par le modèle.\n",
    "\n",
    "3/ Mettre en production le modèle de scoring de prédiction à l’aide d’une API et réaliser une interface de test de cette API.\n",
    "\n",
    "4/ Mettre en oeuvre une approche globale MLOps de bout en bout, du tracking des expérimentations à l’analyse en production du data drift.\n",
    "___\n",
    "Ce notebook presente la 1ème partie concernant la construction du modèle de scoring."
   ]
  },
  {
   "cell_type": "markdown",
   "metadata": {},
   "source": [
    "# <span style='background:grey'>Importations des librairies utilisees dans ce notebook</span>"
   ]
  },
  {
   "cell_type": "code",
   "execution_count": 1,
   "metadata": {},
   "outputs": [
    {
     "name": "stdout",
     "output_type": "stream",
     "text": [
      "Version des librairies utilisees :\n",
      "Python        : 3.11.5 (tags/v3.11.5:cce6ba9, Aug 24 2023, 14:38:34) [MSC v.1936 64 bit (AMD64)]\n",
      "Pandas        : 2.2.1\n",
      "\n",
      "Code lance le : 2024-03-11T09:54:08.050999\n",
      "\n"
     ]
    }
   ],
   "source": [
    "# Librairies generales\n",
    "import sys\n",
    "import time\n",
    "from datetime import datetime\n",
    "\n",
    "# Data science\n",
    "import pandas as pd\n",
    "\n",
    "# API\n",
    "import streamlit as st\n",
    "\n",
    "# Affichage plot dans le notebook\n",
    "%matplotlib inline\n",
    "\n",
    "# Versions\n",
    "print(\"Version des librairies utilisees :\")\n",
    "print(\"Python        : \" + sys.version)\n",
    "print(\"Pandas        : \" + pd.__version__)\n",
    "\n",
    "# Afficher heure lancement\n",
    "maintenant = datetime.now().isoformat()\n",
    "print(\"\\nCode lance le : \" + maintenant)\n",
    "\n",
    "# Enregistrer l'heure de debut\n",
    "start_time = time.time()\n",
    "\n",
    "# Activer la verification PEP8\n",
    "print(\"\")\n",
    "%load_ext pycodestyle_magic\n",
    "%pycodestyle_on"
   ]
  },
  {
   "cell_type": "markdown",
   "metadata": {},
   "source": [
    "# <span style='background:grey'>Paramètres d'affichage</span>"
   ]
  },
  {
   "cell_type": "code",
   "execution_count": 2,
   "metadata": {},
   "outputs": [],
   "source": [
    "# parametrage des paramètres d'affichage dans le notebook\n",
    "pd.set_option(\"display.max_row\", 50)\n",
    "pd.set_option(\"display.max_column\", 10)\n",
    "pd.set_option(\"display.precision\", 2)"
   ]
  },
  {
   "cell_type": "markdown",
   "metadata": {},
   "source": [
    "# <span style='background:grey'>Fonctions</span>"
   ]
  },
  {
   "cell_type": "code",
   "execution_count": 3,
   "metadata": {},
   "outputs": [],
   "source": [
    "def calculer_duree_notebook(start_time):\n",
    "    \"\"\"\n",
    "    Cette procédure calcule et affiche la durée totale depuis un temps de\n",
    "    début donné.\n",
    "\n",
    "    Args:\n",
    "        start_time (float): Le temps de début en secondes depuis l'époque.\n",
    "\n",
    "    Returns:\n",
    "        None\n",
    "    \"\"\"\n",
    "    # Calculer la durée totale\n",
    "    total_time = time.time() - start_time\n",
    "\n",
    "    # Convertir en minutes et secondes\n",
    "    minutes, seconds = divmod(total_time, 60)\n",
    "\n",
    "    # Afficher la durée totale\n",
    "    message = (\"Durée execution notebook : {0} minute(s) {1} seconde(s)\")\n",
    "    print(message.format(int(minutes), int(seconds)))"
   ]
  },
  {
   "cell_type": "markdown",
   "metadata": {},
   "source": [
    "test"
   ]
  },
  {
   "cell_type": "code",
   "execution_count": null,
   "metadata": {},
   "outputs": [],
   "source": []
  },
  {
   "cell_type": "code",
   "execution_count": 10,
   "metadata": {},
   "outputs": [
    {
     "name": "stdout",
     "output_type": "stream",
     "text": [
      "Durée totale pour faire tourner le notebook : 0 minute(s) 2 seconde(s)\n"
     ]
    }
   ],
   "source": [
    "# Afficher temps d'exécution du notebook\n",
    "calculer_duree_notebook(start_time)"
   ]
  },
  {
   "cell_type": "markdown",
   "metadata": {},
   "source": [
    "**Mettre en œuvre un logiciel de version de code afin d’assurer en continu l’intégration et la diffusion du modèle auprès de collaborateurs.**\n",
    "\n",
    "CE1 Vous avez créé un dossier contenant tous les scripts du projet dans un logiciel de version de code avec Git et l'a partagé avec Github.\n",
    "\n",
    "CE2 Vous avez présenté un historique des modifications du projet qui affiche au moins trois versions distinctes, auxquelles il est possible d'accéder.\n",
    "\n",
    "CE3 Vous avez tenu à jour et mis à disposition la liste des packages utilisés ainsi que leur numéro de version.\n",
    "\n",
    "CE4 Vous avez rédigé un fichier introductif permettant de comprendre l'objectif du projet et le découpage des dossiers.\n",
    "\n",
    "CE5 Vous avez commenté les scripts et les fonctions facilitant une réutilisation du travail par d'autres personnes et la collaboration."
   ]
  },
  {
   "cell_type": "markdown",
   "metadata": {},
   "source": [
    "**Concevoir et assurer un déploiement continu d'un moteur d’inférence (modèle de prédiction encapsulé dans une API) sur une plateforme Cloud afin de permettre à des applications de réaliser des prédictions via une requête à l’API.**\n",
    "\n",
    "CE1 Vous avez défini et préparé un pipeline de déploiement continu.\n",
    "\n",
    "CE2 Vous avez déployé le modèle de machine learning sous forme d'API (via Flask par exemple) et cette API renvoie bien une prédiction correspondant à une demande.\n",
    "\n",
    "CE3 Vous avez mis en œuvre un pipeline de déploiement continu, afin de déployer l'API sur un serveur d'une plateforme Cloud.\n",
    "\n",
    "CE4 Vous avez mis en oeuvre des tests unitaires automatisés (par exemple avec pyTest).\n",
    "\n",
    "CE5 Vous avez réalisé l'API indépendamment de l'application qui utilise le résultat de la prédiction."
   ]
  },
  {
   "cell_type": "markdown",
   "metadata": {},
   "source": [
    "**Définir et mettre en œuvre une stratégie de suivi de la performance d’un modèle en production et en assurer la maintenance afin de garantir dans le temps la production de prédictions performantes.**\n",
    "\n",
    "CE1 Vous avez défini une stratégie de suivi de la performance du modèle. Dans le cadre du projet : \n",
    "\n",
    "- choix de réaliser a priori cette analyse sur le dataset disponible : analyse de data drift entre le dataset train et le dataset test.\n",
    "\n",
    "CE2 Vous avez réalisé un système de stockage d’événements relatifs aux prédictions réalisées par l’API et une gestion d’alerte en cas de dégradation significative de la performance. Dans le cadre du projet : \n",
    "\n",
    "- choix de réaliser a priori cette analyse analyse de data drift, via une simulation dans un notebook et création d’un tableau HTML d’analyse avec la librairie evidently.\n",
    "\n",
    "CE3 Vous avez analysé la stabilité du modèle dans le temps et défini des actions d’amélioration de sa performance. Dans le cadre de ce projet : \n",
    "\n",
    "- Analyse du tableau HTML evidently, et conclusion sur un éventuel data drift.\n"
   ]
  }
 ],
 "metadata": {
  "kernelspec": {
   "display_name": "env",
   "language": "python",
   "name": "python3"
  },
  "language_info": {
   "codemirror_mode": {
    "name": "ipython",
    "version": 3
   },
   "file_extension": ".py",
   "mimetype": "text/x-python",
   "name": "python",
   "nbconvert_exporter": "python",
   "pygments_lexer": "ipython3",
   "version": "3.11.5"
  }
 },
 "nbformat": 4,
 "nbformat_minor": 2
}
